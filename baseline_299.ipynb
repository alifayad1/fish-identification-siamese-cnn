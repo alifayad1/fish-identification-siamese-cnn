{
  "nbformat": 4,
  "nbformat_minor": 0,
  "metadata": {
    "colab": {
      "name": "baseline_299.ipynb",
      "provenance": [],
      "collapsed_sections": [],
      "machine_shape": "hm"
    },
    "kernelspec": {
      "name": "python3",
      "display_name": "Python 3"
    },
    "accelerator": "GPU"
  },
  "cells": [
    {
      "cell_type": "code",
      "metadata": {
        "id": "OkelLIBq5Nfx",
        "colab_type": "code",
        "outputId": "cae9c782-2eba-4707-add9-2b61154091b2",
        "colab": {
          "base_uri": "https://localhost:8080/",
          "height": 87
        }
      },
      "source": [
        "from keras.models import Sequential\n",
        "import time\n",
        "\n",
        "import seaborn as sns\n",
        "\n",
        "import cv2\n",
        "from skimage.transform import rotate, AffineTransform, warp\n",
        "import os\n",
        "from skimage import io, img_as_ubyte\n",
        "import numpy as np\n",
        "from numpy import genfromtxt\n",
        "import pandas as pd\n",
        "import tensorflow as tf\n",
        "import numpy.random as rng\n",
        "from sklearn.utils import shuffle\n",
        "import matplotlib.pyplot as plt\n",
        "import random"
      ],
      "execution_count": 0,
      "outputs": [
        {
          "output_type": "stream",
          "text": [
            "Using TensorFlow backend.\n",
            "/usr/local/lib/python3.6/dist-packages/statsmodels/tools/_testing.py:19: FutureWarning: pandas.util.testing is deprecated. Use the functions in the public API at pandas.testing instead.\n",
            "  import pandas.util.testing as tm\n"
          ],
          "name": "stderr"
        }
      ]
    },
    {
      "cell_type": "code",
      "metadata": {
        "id": "dUxHXBPB5Ws0",
        "colab_type": "code",
        "outputId": "74f1351a-6ee4-4f0e-8c3e-de96d4ff0acd",
        "colab": {
          "base_uri": "https://localhost:8080/",
          "height": 33
        }
      },
      "source": [
        "from google.colab import drive\n",
        "drive.mount('/content/drive')"
      ],
      "execution_count": 0,
      "outputs": [
        {
          "output_type": "stream",
          "text": [
            "Drive already mounted at /content/drive; to attempt to forcibly remount, call drive.mount(\"/content/drive\", force_remount=True).\n"
          ],
          "name": "stdout"
        }
      ]
    },
    {
      "cell_type": "code",
      "metadata": {
        "id": "w1gWdIv55isz",
        "colab_type": "code",
        "colab": {}
      },
      "source": [
        "from PIL import Image\n",
        "def load_training_data(DIR):\n",
        "    IMG_SIZE=384\n",
        "    train_data = []\n",
        "    train_labels = []\n",
        "    i = 0\n",
        "    for img in os.listdir(DIR):\n",
        "        i+=1\n",
        "        path = os.path.join(DIR, img)\n",
        "        name = img.split(\"_\")[0] +\" \"+img.split(\"_\")[1]\n",
        "        img = Image.open(path)\n",
        "        img = img.convert('RGB')\n",
        "        img = img.resize((IMG_SIZE, IMG_SIZE), Image.ANTIALIAS)\n",
        "        train_data.append(np.array(img)) \n",
        "        train_labels.append(name)\n",
        "#         #########\n",
        "        #Horizontal Flipping\n",
        "        flip_img = Image.open(path)\n",
        "        flip_img = flip_img.convert('RGB')\n",
        "        flip_img = flip_img.resize((IMG_SIZE, IMG_SIZE), Image.ANTIALIAS)\n",
        "        flip_img = np.array(flip_img)\n",
        "        flip_img = np.fliplr(flip_img)\n",
        "        train_data.append(np.array(flip_img))\n",
        "        train_labels.append(name)\n",
        "#         ##########\n",
        "        # vertical flipping\n",
        "        flip_img_up = Image.open(path)\n",
        "        flip_img_up = flip_img_up.convert('RGB')\n",
        "        flip_img_up = flip_img_up.resize((IMG_SIZE, IMG_SIZE), Image.ANTIALIAS)\n",
        "        flip_img_up = np.array(flip_img_up)\n",
        "        flip_img_up = np.flipud(flip_img_up)\n",
        "        train_data.append(np.array(flip_img_up))\n",
        "        train_labels.append(name)\n",
        "        #########\n",
        "       # positive rotation\n",
        "        angle= random.randint(0,180)\n",
        "        r1 = Image.open(path)\n",
        "        r1= r1.convert('RGB')\n",
        "        r1 = r1.resize((IMG_SIZE, IMG_SIZE), Image.ANTIALIAS)\n",
        "        r1= np.array(r1)\n",
        "        r1 = rotate(r1, angle)\n",
        "        r1 = img_as_ubyte(r1) \n",
        "        train_data.append(r1)\n",
        "        train_labels.append(name)\n",
        "        # positive rotation\n",
        "        angle= random.randint(0,180)\n",
        "        r1 = Image.open(path)\n",
        "        r1= r1.convert('RGB')\n",
        "        r1 = r1.resize((IMG_SIZE, IMG_SIZE), Image.ANTIALIAS)\n",
        "        r1= np.array(r1)\n",
        "        r1 = rotate(r1, angle)\n",
        "        r1 = img_as_ubyte(r1) \n",
        "        train_data.append(r1)\n",
        "        train_labels.append(name)\n",
        "        ##########\n",
        "        # negative rotation\n",
        "        angle= random.randint(0,180)\n",
        "        r2 = Image.open(path)\n",
        "        r2= r2.convert('RGB')\n",
        "        r2 = r2.resize((IMG_SIZE, IMG_SIZE), Image.ANTIALIAS)\n",
        "        r2= np.array(r2)\n",
        "        r2 = rotate(r2, -angle)\n",
        "        r2 = img_as_ubyte(r2) \n",
        "        train_data.append(r2)\n",
        "        train_labels.append(name)\n",
        "        #####\n",
        "        # negative rotation\n",
        "        angle= random.randint(0,180)\n",
        "        r2 = Image.open(path)\n",
        "        r2= r2.convert('RGB')\n",
        "        r2 = r2.resize((IMG_SIZE, IMG_SIZE), Image.ANTIALIAS)\n",
        "        r2= np.array(r2)\n",
        "        r2 = rotate(r2, -angle)\n",
        "        r2 = img_as_ubyte(r2) \n",
        "        train_data.append(r2)\n",
        "        train_labels.append(name)\n",
        "        # blur\n",
        "        \n",
        "        img2 = Image.open(path)\n",
        "        img2 = img2.convert('RGB')\n",
        "        img2 = img2.resize((IMG_SIZE, IMG_SIZE), Image.ANTIALIAS)\n",
        "        img2 = np.array(img2)\n",
        "        img2 =cv2.GaussianBlur(img2, (9,9),cv2.BORDER_DEFAULT)\n",
        "        train_data.append(np.array(img2))\n",
        "        train_labels.append(name)\n",
        "        # add noise\n",
        "        if i >= 1000:\n",
        "            break\n",
        "        ###\n",
        "    return np.asarray(train_data),np.asarray(train_labels)"
      ],
      "execution_count": 0,
      "outputs": []
    },
    {
      "cell_type": "code",
      "metadata": {
        "id": "M4DvtLUVEJDm",
        "colab_type": "code",
        "colab": {}
      },
      "source": [
        "from PIL import Image\n",
        "def load_testing_data(DIR):\n",
        "    IMG_SIZE=384\n",
        "    train_data = []\n",
        "    train_labels = []\n",
        "    i = 0\n",
        "    for img in os.listdir(DIR):\n",
        "        i+=1\n",
        "        path = os.path.join(DIR, img)\n",
        "        name = img.split(\"_\")[0] +\" \"+img.split(\"_\")[1]\n",
        "        img = Image.open(path)\n",
        "        img = img.convert('RGB')\n",
        "        img = img.resize((IMG_SIZE, IMG_SIZE), Image.ANTIALIAS)\n",
        "        train_data.append(np.array(img)) \n",
        "        train_labels.append(name)\n",
        "    return np.asarray(train_data),np.asarray(train_labels)"
      ],
      "execution_count": 0,
      "outputs": []
    },
    {
      "cell_type": "code",
      "metadata": {
        "id": "6kVXUrmE5swB",
        "colab_type": "code",
        "colab": {}
      },
      "source": [
        "from sklearn.model_selection import GridSearchCV \n",
        "from sklearn.svm import SVC\n",
        "from sklearn.metrics import accuracy_score, f1_score\n",
        "from joblib import dump, load\n",
        "import pandas as pd\n",
        "import numpy as np\n",
        "\n",
        "import matplotlib.pyplot as plt\n",
        "import matplotlib as mpl\n",
        "%matplotlib inline"
      ],
      "execution_count": 0,
      "outputs": []
    },
    {
      "cell_type": "code",
      "metadata": {
        "id": "VTXDQt-i5u-B",
        "colab_type": "code",
        "colab": {}
      },
      "source": [
        "x_train, y_train = load_training_data(\"/content/drive/My Drive/cropped\")"
      ],
      "execution_count": 0,
      "outputs": []
    },
    {
      "cell_type": "code",
      "metadata": {
        "id": "ufph9M5bDBwI",
        "colab_type": "code",
        "colab": {}
      },
      "source": [
        "x_test, y_test = load_testing_data(\"/content/drive/My Drive/y_test_rita\")"
      ],
      "execution_count": 0,
      "outputs": []
    },
    {
      "cell_type": "code",
      "metadata": {
        "id": "9-886Cy2FSL2",
        "colab_type": "code",
        "colab": {}
      },
      "source": [
        "# plt.imshow(x_test[0])"
      ],
      "execution_count": 0,
      "outputs": []
    },
    {
      "cell_type": "code",
      "metadata": {
        "id": "OSZqEu2j_9jL",
        "colab_type": "code",
        "colab": {}
      },
      "source": [
        "# np.savetxt(\"/content/drive/My Drive/y_train_rita.txt\", y_train, fmt='%s')\n",
        "# np.savetxt(\"/content/drive/My Drive/y_train_rita_2nd_format.txt\", y_train, newline=\" \", fmt='%s')"
      ],
      "execution_count": 0,
      "outputs": []
    },
    {
      "cell_type": "code",
      "metadata": {
        "id": "798YJ6-_BgEn",
        "colab_type": "code",
        "colab": {}
      },
      "source": [
        "# y_train"
      ],
      "execution_count": 0,
      "outputs": []
    },
    {
      "cell_type": "code",
      "metadata": {
        "id": "ObMBvLQj63da",
        "colab_type": "code",
        "outputId": "34f655eb-a021-49cf-d050-e83b0f7813b7",
        "colab": {
          "base_uri": "https://localhost:8080/",
          "height": 100
        }
      },
      "source": [
        "print(x_train.shape)\n",
        "x_train=x_train[:1000,:]\n",
        "print(\"xnew: \", x_train.shape)\n",
        "x_train = x_train.reshape(1000,384*384*3)\n",
        "print(\"xnewest: \", x_train.shape)\n",
        "print(y_train.shape)\n",
        "y_train = y_train[:1000]\n",
        "print(\"ynew: \", y_train.shape)          "
      ],
      "execution_count": 0,
      "outputs": [
        {
          "output_type": "stream",
          "text": [
            "(6000, 384, 384, 3)\n",
            "xnew:  (1000, 384, 384, 3)\n",
            "xnewest:  (1000, 442368)\n",
            "(6000,)\n",
            "ynew:  (1000,)\n"
          ],
          "name": "stdout"
        }
      ]
    },
    {
      "cell_type": "code",
      "metadata": {
        "id": "Cf9m6IziFXiJ",
        "colab_type": "code",
        "outputId": "97987dd7-236b-463a-ed36-29e95ea12530",
        "colab": {
          "base_uri": "https://localhost:8080/",
          "height": 67
        }
      },
      "source": [
        "print(x_test.shape)\n",
        "x_test = np.reshape(x_test, (x_test.shape[0], -1))\n",
        "print(x_test.shape)\n",
        "print(y_test.shape)"
      ],
      "execution_count": 0,
      "outputs": [
        {
          "output_type": "stream",
          "text": [
            "(952, 384, 384, 3)\n",
            "(952, 442368)\n",
            "(952,)\n"
          ],
          "name": "stdout"
        }
      ]
    },
    {
      "cell_type": "code",
      "metadata": {
        "id": "6bOE0l_45qwM",
        "colab_type": "code",
        "outputId": "153dfce8-248a-4471-a60c-2e5bfc7b1253",
        "colab": {
          "base_uri": "https://localhost:8080/",
          "height": 117
        }
      },
      "source": [
        "print(\"final shapes x and y: \")\n",
        "print(x_train.shape)\n",
        "print(y_train.shape)\n",
        "print(\"final test x and y shapes\")\n",
        "print(x_test.shape)\n",
        "print(y_test.shape)"
      ],
      "execution_count": 0,
      "outputs": [
        {
          "output_type": "stream",
          "text": [
            "final shapes x and y: \n",
            "(1000, 442368)\n",
            "(1000,)\n",
            "final test x and y shapes\n",
            "(952, 442368)\n",
            "(952,)\n"
          ],
          "name": "stdout"
        }
      ]
    },
    {
      "cell_type": "code",
      "metadata": {
        "id": "9MxM35Kd69Ih",
        "colab_type": "code",
        "colab": {}
      },
      "source": [
        "def svm_linear(c):\n",
        "    svc = SVC(probability = False, kernel = 'linear', C = c)\n",
        "    \n",
        "    svc.fit(x_train, y_train) \n",
        "    \n",
        "  \n",
        "    y_pred_train = svc.predict(x_train)\n",
        "    acc_train = np.mean(y_pred_train == y_train)\n",
        "    print('Train Accuracy = ', acc_train)\n",
        "\n",
        "    y_pred_test = svc.predict(x_test)\n",
        "    acc_test = np.mean(y_pred_test == y_test)\n",
        "    print('Test Accuracy = ', acc_test)\n",
        "\n",
        "    "
      ],
      "execution_count": 0,
      "outputs": []
    },
    {
      "cell_type": "code",
      "metadata": {
        "id": "oM5kYhWq_Pcy",
        "colab_type": "code",
        "outputId": "22a3c00e-b4c8-45a5-9008-1030bfd3bf41",
        "colab": {
          "base_uri": "https://localhost:8080/",
          "height": 50
        }
      },
      "source": [
        "svm_linear(0.1)\n",
        "\n"
      ],
      "execution_count": 0,
      "outputs": [
        {
          "output_type": "stream",
          "text": [
            "Train Accuracy =  1.0\n",
            "Test Accuracy =  0.03361344537815126\n"
          ],
          "name": "stdout"
        }
      ]
    },
    {
      "cell_type": "code",
      "metadata": {
        "id": "vSnL2zBrOD-I",
        "colab_type": "code",
        "colab": {}
      },
      "source": [
        "def svm_rbf(c, g):\n",
        "    svc_rbf = SVC(probability = False, kernel = 'rbf', C = c, gamma = g)\n",
        "    \n",
        "    # Fit the classifier on the training set.\n",
        "    svc_rbf.fit(x_train, y_train) \n",
        "    y_pred_train = svc_rbf.predict(x_train)\n",
        "    acc_train = np.mean(y_pred_train == y_train)\n",
        "    print('Train Accuracy = ', acc_train)\n",
        "    \n",
        "    # Find the prediction and accuracy on the test set.\n",
        "    y_pred_test = svc_rbf.predict(x_test)\n",
        "    acc_test = np.mean(y_pred_test == y_test)\n",
        "    print('Test Accuracy = ', acc_test)"
      ],
      "execution_count": 0,
      "outputs": []
    },
    {
      "cell_type": "code",
      "metadata": {
        "id": "i6QzVWGHOjw4",
        "colab_type": "code",
        "outputId": "e99bb571-e373-4a7c-fc57-81068b114ff7",
        "colab": {
          "base_uri": "https://localhost:8080/",
          "height": 50
        }
      },
      "source": [
        "svm_rbf(0.1, 'auto')"
      ],
      "execution_count": 0,
      "outputs": [
        {
          "output_type": "stream",
          "text": [
            "Train Accuracy =  0.09\n",
            "Test Accuracy =  0.015756302521008403\n"
          ],
          "name": "stdout"
        }
      ]
    }
  ]
}